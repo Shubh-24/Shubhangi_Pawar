{
 "cells": [
  {
   "cell_type": "code",
   "execution_count": 18,
   "id": "46273df0",
   "metadata": {},
   "outputs": [
    {
     "name": "stdout",
     "output_type": "stream",
     "text": [
      "Lower input is: 0\n",
      "Upper input is: 100\n",
      "7\n",
      "Enter your guess: 58\n",
      "guess is too high\n",
      "0\n",
      "Enter your guess: 65\n",
      "guess is too high\n",
      "1\n",
      "Enter your guess: 5\n",
      "guess is too low\n",
      "2\n",
      "Enter your guess: 25\n",
      "guess is too low\n",
      "3\n",
      "Enter your guess: 2\n",
      "guess is too low\n",
      "4\n",
      "Enter your guess: 5\n",
      "guess is too low\n",
      "5\n",
      "Enter your guess: 5\n",
      "guess is too low\n",
      "6\n",
      "sorry you took more than 7 attempts.No is 39\n"
     ]
    }
   ],
   "source": [
    "import random\n",
    "import math\n",
    "\n",
    "l=int(input(\"Lower input is: \"))\n",
    "u=int(input(\"Upper input is: \"))\n",
    "\n",
    "r=random.randint(l,u)\n",
    "Min_guess=round(math.log(u-l+1,2))\n",
    "print(Min_guess)\n",
    "c=0\n",
    "\n",
    "while c<Min_guess:\n",
    "    i=int(input(\"Enter your guess: \"))\n",
    "    if i==r:\n",
    "        print('congratulations, you did it in {} count'.format(c))\n",
    "        break\n",
    "    elif i>r:\n",
    "        print(\"guess is too high\")\n",
    "    elif i<r:\n",
    "        print(\"guess is too low\")\n",
    "    c+=1\n",
    "        \n",
    "if c>=round(math.log(u-l+1,2)):\n",
    "    print('sorry you took more than {} attempts.No is {}'.format(Min_guess,r))\n",
    "\n",
    "\n",
    "    \n",
    "    "
   ]
  }
 ],
 "metadata": {
  "kernelspec": {
   "display_name": "Python 3",
   "language": "python",
   "name": "python3"
  },
  "language_info": {
   "codemirror_mode": {
    "name": "ipython",
    "version": 3
   },
   "file_extension": ".py",
   "mimetype": "text/x-python",
   "name": "python",
   "nbconvert_exporter": "python",
   "pygments_lexer": "ipython3",
   "version": "3.8.8"
  }
 },
 "nbformat": 4,
 "nbformat_minor": 5
}
