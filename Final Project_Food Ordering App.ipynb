{
 "cells": [
  {
   "cell_type": "code",
   "execution_count": null,
   "id": "b0f6e2b7",
   "metadata": {},
   "outputs": [],
   "source": [
    "You have to design a Food Ordering app for a restaurant.\n",
    "The application will have a log-in for admin and users.\n",
    "\n",
    "\n",
    "Admin will have the following functionalities:\n",
    "\n",
    "1. Add new food items. Food Item will have the following details:\n",
    "2. FoodID //It should be generated automatically by the application.\n",
    "3. Name\n",
    "4. Quantity. For eg, 100ml, 250gm, 4pieces etc\n",
    "5. Price\n",
    "6. Discount\n",
    "7. Stock. Amount left in stock in the restaurant.\n",
    "8. Edit food items using FoodID.\n",
    "9. View the list of all food items.\n",
    "10.Remove a food item from the menu using FoodID.\n",
    "\n",
    "\n",
    "The user will have the following functionalities:\n",
    "\n",
    "1. Register on the application. Following to be entered for registration:\n",
    "2. Full Name\n",
    "3. Phone Number\n",
    "4. Email\n",
    "5. Address\n",
    "6. Password\n",
    "7. Log in to the application\n",
    "8. The user will see 3 options:\n",
    "9. Place New Order\n",
    "10. Order History\n",
    "11. Update Profile\n",
    "12. Place New Order: The user can place a new order at the restaurant.\n",
    "13. Show list of food. The list item should as follows:\n",
    "14. 1. Tandoori Chicken (4 pieces) [INR 240]\n",
    "15. 2. Vegan Burger (1 Piece) [INR 320]\n",
    "16. 3. Truffle Cake (500gm) [INR 900]\n",
    "17. Users should be able to select food by entering an array of numbers. For example, if the user wants to order Vegan Burger and Truffle Cake they should enter [2, 3]\n",
    "18. Once the items are selected user should see the list of all the items selected. The user will also get an option to place an order.\n",
    "19. Order History should show a list of all the previous orders\n",
    "20.Update Profile: the user should be able to update their profile."
   ]
  },
  {
   "cell_type": "code",
   "execution_count": 32,
   "id": "e4a47670",
   "metadata": {},
   "outputs": [],
   "source": [
    "class admin:\n",
    "        \n",
    "    def sign_up(self,name, password, phn):\n",
    "        self.phn = phn\n",
    "        self.name = name\n",
    "        self.password = password\n",
    "        self.user_name = name+\"_\"+str(phn)\n",
    "        \n",
    "    def sign_in(self, user_name, password):\n",
    "        if user_name == self.user_name:\n",
    "            if password == self.password:\n",
    "                print('successfully signed in')\n",
    "        else:\n",
    "            return {\"message\":\"Wrong username/password\"}\n",
    "    \n",
    "    def food_details(self):\n",
    "        self.food_list={}\n",
    "        no_of_food_item=int(input('no of food item: '))\n",
    "        for i in range(no_of_food_item):\n",
    "            ID=i\n",
    "            name=input('Food Name: ')\n",
    "            quantity=(input('Quantity is: '))\n",
    "            price=input('Price in Rs: ')\n",
    "            discount=input('Discount in %: ')\n",
    "            stock=input('stock is: ')\n",
    "            food_item={'ID':ID,'name':name,'quantity':quantity,'price':price,'discount':discount,'stock':stock}\n",
    "            self.food_list[ID]=food_item\n",
    "        #print(self.food_list)\n",
    "        return self.food_list\n",
    "        \n",
    "    def edit_food_items(self,**new_food_item):\n",
    "        edit_food_id=int(input('food id:'))\n",
    "        if edit_food_id in self.food_list.keys():\n",
    "            v=self.food_list[edit_food_id]\n",
    "        name=input('Food Name: ')\n",
    "        quantity=(input('Quantity is: '))\n",
    "        price=input('Price in Rs: ')\n",
    "        discount=input('Discount in %: ')\n",
    "        stock=input('stock is: ')\n",
    "        new_food_item={'ID':edit_food_id,'name':name,'quantity':quantity,'price':price,'discount':discount,'stock':stock}\n",
    "        for key in new_food_item:\n",
    "            v[key]=new_food_item[key]\n",
    "        self.food_list[edit_food_id]=v\n",
    "        print(self.food_list)\n",
    "        return v\n",
    "    \n",
    "    def get_name(self):\n",
    "        return self.food_list\n",
    "    \n",
    "    def remove_food_item(self):\n",
    "        remove_food_id=int(input('remove food id is:'))\n",
    "        self.food_list.pop(remove_food_id)\n",
    "        return self.food_list"
   ]
  },
  {
   "cell_type": "code",
   "execution_count": 33,
   "id": "b8585723",
   "metadata": {},
   "outputs": [],
   "source": [
    "a=admin()"
   ]
  },
  {
   "cell_type": "code",
   "execution_count": 34,
   "id": "3be8d575",
   "metadata": {},
   "outputs": [],
   "source": [
    "a.sign_up('shubham',753,789456123)"
   ]
  },
  {
   "cell_type": "code",
   "execution_count": 35,
   "id": "da7f16be",
   "metadata": {},
   "outputs": [
    {
     "name": "stdout",
     "output_type": "stream",
     "text": [
      "successfully signed in\n"
     ]
    }
   ],
   "source": [
    "a.sign_in('shubham_789456123',753)"
   ]
  },
  {
   "cell_type": "code",
   "execution_count": 36,
   "id": "4b9e550c",
   "metadata": {},
   "outputs": [
    {
     "name": "stdout",
     "output_type": "stream",
     "text": [
      "no of food item: 2\n",
      "Food Name: kachori\n",
      "Quantity is: 75\n",
      "Price in Rs: 20\n",
      "Discount in %: 2\n",
      "stock is: 56\n",
      "Food Name: samosa\n",
      "Quantity is: 85\n",
      "Price in Rs: 12\n",
      "Discount in %: 2\n",
      "stock is: 52\n"
     ]
    },
    {
     "data": {
      "text/plain": [
       "{0: {'ID': 0,\n",
       "  'name': 'kachori',\n",
       "  'quantity': '75',\n",
       "  'price': '20',\n",
       "  'discount': '2',\n",
       "  'stock': '56'},\n",
       " 1: {'ID': 1,\n",
       "  'name': 'samosa',\n",
       "  'quantity': '85',\n",
       "  'price': '12',\n",
       "  'discount': '2',\n",
       "  'stock': '52'}}"
      ]
     },
     "execution_count": 36,
     "metadata": {},
     "output_type": "execute_result"
    }
   ],
   "source": [
    "a.food_details()"
   ]
  },
  {
   "cell_type": "code",
   "execution_count": 37,
   "id": "ebc0afed",
   "metadata": {},
   "outputs": [
    {
     "name": "stdout",
     "output_type": "stream",
     "text": [
      "food id:1\n",
      "Food Name: cake\n",
      "Quantity is: 10\n",
      "Price in Rs: 150 Rs/\n",
      "Discount in %: 10\n",
      "stock is: 5\n",
      "{0: {'ID': 0, 'name': 'kachori', 'quantity': '75', 'price': '20', 'discount': '2', 'stock': '56'}, 1: {'ID': 1, 'name': 'cake', 'quantity': '10', 'price': '150 Rs/', 'discount': '10', 'stock': '5'}}\n"
     ]
    },
    {
     "data": {
      "text/plain": [
       "{'ID': 1,\n",
       " 'name': 'cake',\n",
       " 'quantity': '10',\n",
       " 'price': '150 Rs/',\n",
       " 'discount': '10',\n",
       " 'stock': '5'}"
      ]
     },
     "execution_count": 37,
     "metadata": {},
     "output_type": "execute_result"
    }
   ],
   "source": [
    " a.edit_food_items()"
   ]
  },
  {
   "cell_type": "code",
   "execution_count": 38,
   "id": "937bb2d7",
   "metadata": {},
   "outputs": [
    {
     "data": {
      "text/plain": [
       "{0: {'ID': 0,\n",
       "  'name': 'kachori',\n",
       "  'quantity': '75',\n",
       "  'price': '20',\n",
       "  'discount': '2',\n",
       "  'stock': '56'},\n",
       " 1: {'ID': 1,\n",
       "  'name': 'cake',\n",
       "  'quantity': '10',\n",
       "  'price': '150 Rs/',\n",
       "  'discount': '10',\n",
       "  'stock': '5'}}"
      ]
     },
     "execution_count": 38,
     "metadata": {},
     "output_type": "execute_result"
    }
   ],
   "source": [
    "a.get_name()"
   ]
  },
  {
   "cell_type": "code",
   "execution_count": 39,
   "id": "aec4b056",
   "metadata": {},
   "outputs": [
    {
     "name": "stdout",
     "output_type": "stream",
     "text": [
      "remove food id is:1\n"
     ]
    },
    {
     "data": {
      "text/plain": [
       "{0: {'ID': 0,\n",
       "  'name': 'kachori',\n",
       "  'quantity': '75',\n",
       "  'price': '20',\n",
       "  'discount': '2',\n",
       "  'stock': '56'}}"
      ]
     },
     "execution_count": 39,
     "metadata": {},
     "output_type": "execute_result"
    }
   ],
   "source": [
    "a.remove_food_item()"
   ]
  },
  {
   "cell_type": "code",
   "execution_count": 10,
   "id": "668b6760",
   "metadata": {},
   "outputs": [],
   "source": [
    "from datetime import datetime \n",
    "class customer:\n",
    "    order_history={}\n",
    "    def __init__(self):\n",
    "        self.role =''\n",
    "    \n",
    "        \n",
    "    def sign_up(self,name,Email,adress,password, phn):\n",
    "        self.phn = phn\n",
    "        self.name = name\n",
    "        self.Email=Email\n",
    "        self.adress=adress\n",
    "        self.password = password\n",
    "        self.user_name = name+\"_\"+str(phn)\n",
    "        self.user_details={'name':name,'Email':Email,'phn':phn,'adress':adress}\n",
    "        \n",
    "    def sign_in(self, user_name, password):\n",
    "        if user_name == self.user_name:\n",
    "            if password == self.password:\n",
    "                return {\"message\":\"Successfully signed in\"}\n",
    "            else:\n",
    "                return {\"message\":\"Wrong username/password\"}\n",
    "            \n",
    "    def place_order(self):\n",
    "        customer_food_list={1:'Tandoori Chicken (4 pieces) [INR 240]', 2:' Vegan Burger (1 Piece) [INR 320]',3:'Truffle Cake (500gm) [INR 900]'}\n",
    "        print( customer_food_list)\n",
    "        food_order_no=list(map(int,(input('Enter food order no:').split(' '))))\n",
    "        print('final food order no is',food_order_no)\n",
    "        self.place_order_list=[]\n",
    "        for i in food_order_no:\n",
    "            if i in customer_food_list.keys():\n",
    "                self.place_order_list.append(customer_food_list[i])\n",
    "        print('Your Order Is: ',self.place_order_list)\n",
    "        Confirm_order=input('You want to Place the order \\n yes \\n no \\n')\n",
    "        if  Confirm_order=='yes':\n",
    "            print('Your order is successfully placed')\n",
    "            customer.order_history[datetime.now().isoformat(timespec='seconds')]=self.place_order_list\n",
    "        else:\n",
    "            pass\n",
    "        \n",
    "    def Order_History(self):\n",
    "        print(customer.order_history)\n",
    "        \n",
    "    def Edit_user_details(self,**new_details):\n",
    "        name=input('Edit Name: ')\n",
    "        Email=input('Edit Email: ')\n",
    "        phn=input('Edit phn: ')\n",
    "        adress=input('Edit adress: ')\n",
    "        new_details={'name':name,'Email':Email,'phn':phn,'adress':adress}\n",
    "        for key in new_details:\n",
    "            self.user_details[key]=new_details[key]\n",
    "        print('Edited User Details are:',self.user_details)\n",
    "        \n"
   ]
  },
  {
   "cell_type": "code",
   "execution_count": 11,
   "id": "cfb55424",
   "metadata": {},
   "outputs": [],
   "source": [
    "c=customer()"
   ]
  },
  {
   "cell_type": "code",
   "execution_count": 12,
   "id": "b45f6007",
   "metadata": {},
   "outputs": [],
   "source": [
    "c.sign_up('shubhangi','shubhangipawar8888@gmail.com','Latur',1234,12365489)"
   ]
  },
  {
   "cell_type": "code",
   "execution_count": 13,
   "id": "384162d0",
   "metadata": {},
   "outputs": [
    {
     "data": {
      "text/plain": [
       "{'message': 'Successfully signed in'}"
      ]
     },
     "execution_count": 13,
     "metadata": {},
     "output_type": "execute_result"
    }
   ],
   "source": [
    "c.sign_in('shubhangi_12365489',1234)"
   ]
  },
  {
   "cell_type": "code",
   "execution_count": 14,
   "id": "6472f6bc",
   "metadata": {},
   "outputs": [
    {
     "name": "stdout",
     "output_type": "stream",
     "text": [
      "Please Enter your preference:\n",
      "1. Place new order\n",
      "2. Order history\n",
      "3. Update profile \n",
      "4.Exit \n",
      "Enter your choice number: 1\n",
      "place order\n",
      "{1: 'Tandoori Chicken (4 pieces) [INR 240]', 2: ' Vegan Burger (1 Piece) [INR 320]', 3: 'Truffle Cake (500gm) [INR 900]'}\n",
      "Enter food order no:1\n",
      "final food order no is [1]\n",
      "Your Order Is:  ['Tandoori Chicken (4 pieces) [INR 240]']\n",
      "You want to Place the order \n",
      " yes \n",
      " no \n",
      "yes\n",
      "Your order is successfully placed\n",
      "Please Enter your preference:\n",
      "1. Place new order\n",
      "2. Order history\n",
      "3. Update profile \n",
      "4.Exit \n",
      "Enter your choice number: 2\n",
      "Order history\n",
      "{'2022-01-02T00:43:10': ['Tandoori Chicken (4 pieces) [INR 240]']}\n",
      "Please Enter your preference:\n",
      "1. Place new order\n",
      "2. Order history\n",
      "3. Update profile \n",
      "4.Exit \n",
      "Enter your choice number: 1\n",
      "place order\n",
      "{1: 'Tandoori Chicken (4 pieces) [INR 240]', 2: ' Vegan Burger (1 Piece) [INR 320]', 3: 'Truffle Cake (500gm) [INR 900]'}\n",
      "Enter food order no:2 3\n",
      "final food order no is [2, 3]\n",
      "Your Order Is:  [' Vegan Burger (1 Piece) [INR 320]', 'Truffle Cake (500gm) [INR 900]']\n",
      "You want to Place the order \n",
      " yes \n",
      " no \n",
      "yes\n",
      "Your order is successfully placed\n",
      "Please Enter your preference:\n",
      "1. Place new order\n",
      "2. Order history\n",
      "3. Update profile \n",
      "4.Exit \n",
      "Enter your choice number: 2\n",
      "Order history\n",
      "{'2022-01-02T00:43:10': ['Tandoori Chicken (4 pieces) [INR 240]'], '2022-01-02T00:43:30': [' Vegan Burger (1 Piece) [INR 320]', 'Truffle Cake (500gm) [INR 900]']}\n",
      "Please Enter your preference:\n",
      "1. Place new order\n",
      "2. Order history\n",
      "3. Update profile \n",
      "4.Exit \n",
      "Enter your choice number: 3\n",
      "update profile\n",
      "Edit Name: Swati\n",
      "Edit Email: swatipawar8888@gmail.com\n",
      "Edit phn: 789456123\n",
      "Edit adress: sangola\n",
      "Edited User Details are: {'name': 'Swati', 'Email': 'swatipawar8888@gmail.com', 'phn': '789456123', 'adress': 'sangola'}\n",
      "Please Enter your preference:\n",
      "1. Place new order\n",
      "2. Order history\n",
      "3. Update profile \n",
      "4.Exit \n",
      "Enter your choice number: 4\n",
      "You selected to exit\n"
     ]
    }
   ],
   "source": [
    "while True:\n",
    "    user_input = int(input(\"Please Enter your preference:\\n1. Place new order\\n2. Order history\\n3. Update profile \\n4.Exit \\nEnter your choice number: \"))\n",
    "    if user_input==1:\n",
    "        print('place order')\n",
    "        c.place_order()\n",
    "    elif user_input==2:\n",
    "        print('Order history')\n",
    "        c.Order_History()\n",
    "    elif user_input==3:\n",
    "        print('update profile')\n",
    "        c.Edit_user_details()\n",
    "    elif user_input==4:\n",
    "        print('You selected to exit')\n",
    "        break"
   ]
  },
  {
   "cell_type": "code",
   "execution_count": null,
   "id": "d23827fb",
   "metadata": {},
   "outputs": [],
   "source": []
  }
 ],
 "metadata": {
  "kernelspec": {
   "display_name": "Python 3",
   "language": "python",
   "name": "python3"
  },
  "language_info": {
   "codemirror_mode": {
    "name": "ipython",
    "version": 3
   },
   "file_extension": ".py",
   "mimetype": "text/x-python",
   "name": "python",
   "nbconvert_exporter": "python",
   "pygments_lexer": "ipython3",
   "version": "3.8.8"
  }
 },
 "nbformat": 4,
 "nbformat_minor": 5
}
