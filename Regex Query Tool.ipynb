{
 "cells": [
  {
   "cell_type": "markdown",
   "id": "87fe8bf5",
   "metadata": {},
   "source": [
    "# Regex Query Tool - A tool that allows the user to enter a text string and then in a separate control enter a regex pattern. \n",
    "# It will run the regular expression against the source text and return any matches or flag errors in the regular expression."
   ]
  },
  {
   "cell_type": "code",
   "execution_count": 18,
   "id": "73a4d383",
   "metadata": {},
   "outputs": [
    {
     "name": "stdout",
     "output_type": "stream",
     "text": [
      "xyz\n",
      "xyz\n",
      "Full Match\n",
      "<re.Match object; span=(0, 3), match='xyz'>\n",
      "<re.Match object; span=(0, 3), match='xyz'>\n"
     ]
    }
   ],
   "source": [
    "import re\n",
    "\n",
    "user_string=input()\n",
    "regx=input()\n",
    "\n",
    "Enter_your_match_preferance=input()\n",
    "\n",
    "if (Enter_your_match_preferance=='Full Match'):\n",
    "    a=re.fullmatch(regx,user_string)\n",
    "    if a==None:\n",
    "        print('Your Match Preferance is not found')\n",
    "    else:\n",
    "        print(re.fullmatch(regx,user_string))\n",
    "    \n",
    "if (Enter_your_match_preferance=='First Match'):\n",
    "    a=re.match(regx,user_string)\n",
    "    if a==None:\n",
    "        print('Your Match Preferance is not found')\n",
    "    else:\n",
    "        print(re.match(regx,user_string))\n",
    "        \n",
    "if (Enter_your_match_preferance=='All Matches'):\n",
    "    a=re.findall(regx,user_string)\n",
    "    if a==None:\n",
    "        print('Your Match Preferance is not found')\n",
    "    else:\n",
    "        print(re.findall(regx,user_string))\n",
    "    "
   ]
  },
  {
   "cell_type": "code",
   "execution_count": null,
   "id": "74361b4a",
   "metadata": {},
   "outputs": [],
   "source": []
  },
  {
   "cell_type": "code",
   "execution_count": null,
   "id": "0305b5e8",
   "metadata": {},
   "outputs": [],
   "source": []
  }
 ],
 "metadata": {
  "kernelspec": {
   "display_name": "Python 3",
   "language": "python",
   "name": "python3"
  },
  "language_info": {
   "codemirror_mode": {
    "name": "ipython",
    "version": 3
   },
   "file_extension": ".py",
   "mimetype": "text/x-python",
   "name": "python",
   "nbconvert_exporter": "python",
   "pygments_lexer": "ipython3",
   "version": "3.8.8"
  }
 },
 "nbformat": 4,
 "nbformat_minor": 5
}
