{
 "cells": [
  {
   "cell_type": "code",
   "execution_count": 2,
   "id": "e3b831e4",
   "metadata": {},
   "outputs": [],
   "source": [
    "class Student:\n",
    "    student_list = []\n",
    "    total_marks = 300\n",
    "    fail_percentage = 33\n",
    "    def __init__(self,name,roll_no):\n",
    "        self.name = name\n",
    "        self.roll_no = roll_no\n",
    "        self.marks = {'history':0,'mechanics':0,'chemistry':0}\n",
    "        Student.student_list.append(self)\n",
    "    \n",
    "    def add_marks(self,marks):\n",
    "        self.marks = marks\n",
    "        self.percentage = self.percentage_formula(self.marks, self.total_marks)\n",
    "        if self.percentage < self.fail_percentage:\n",
    "            self.fail = True\n",
    "        else:\n",
    "            self.fail = False\n",
    "    \n",
    "    @classmethod\n",
    "    def find_topper(cls):\n",
    "        heighest_percentage = float('-inf')\n",
    "        current_topper = 0\n",
    "        for obj in cls.student_list:\n",
    "            if obj.percentage > heighest_percentage:\n",
    "                heighest_percentage = obj.percentage\n",
    "                current_topper = obj\n",
    "        return current_topper        \n",
    "    \n",
    "    @staticmethod\n",
    "    def percentage_formula(obt_marks_dict, total_marks):\n",
    "        return (sum(obt_marks_dict.values())/total_marks)*100"
   ]
  },
  {
   "cell_type": "code",
   "execution_count": 3,
   "id": "ce541d99",
   "metadata": {},
   "outputs": [],
   "source": [
    "s1 = Student('Kunal',23)"
   ]
  },
  {
   "cell_type": "code",
   "execution_count": 4,
   "id": "c4d6f6f2",
   "metadata": {},
   "outputs": [],
   "source": [
    "d1 = {'history':10,'mechanics':10,'chemistry':70}"
   ]
  },
  {
   "cell_type": "code",
   "execution_count": 5,
   "id": "95c722db",
   "metadata": {},
   "outputs": [],
   "source": [
    "s1.add_marks(d1)"
   ]
  },
  {
   "cell_type": "code",
   "execution_count": 6,
   "id": "1cd44793",
   "metadata": {},
   "outputs": [
    {
     "data": {
      "text/plain": [
       "True"
      ]
     },
     "execution_count": 6,
     "metadata": {},
     "output_type": "execute_result"
    }
   ],
   "source": [
    "s1.fail"
   ]
  },
  {
   "cell_type": "code",
   "execution_count": 7,
   "id": "79baf88c",
   "metadata": {},
   "outputs": [
    {
     "data": {
      "text/plain": [
       "30.0"
      ]
     },
     "execution_count": 7,
     "metadata": {},
     "output_type": "execute_result"
    }
   ],
   "source": [
    "s1.percentage"
   ]
  },
  {
   "cell_type": "code",
   "execution_count": 8,
   "id": "0aeeaac3",
   "metadata": {},
   "outputs": [],
   "source": [
    "s2 = Student(\"Vanditha\",56)"
   ]
  },
  {
   "cell_type": "code",
   "execution_count": 9,
   "id": "69199a09",
   "metadata": {},
   "outputs": [],
   "source": [
    "d1 = {'history':90,'mechanics':80,'chemistry':70}"
   ]
  },
  {
   "cell_type": "code",
   "execution_count": 10,
   "id": "0e6cc132",
   "metadata": {},
   "outputs": [],
   "source": [
    "s2.add_marks(d1)"
   ]
  },
  {
   "cell_type": "code",
   "execution_count": 11,
   "id": "6459a518",
   "metadata": {},
   "outputs": [
    {
     "data": {
      "text/plain": [
       "False"
      ]
     },
     "execution_count": 11,
     "metadata": {},
     "output_type": "execute_result"
    }
   ],
   "source": [
    "s2.fail"
   ]
  },
  {
   "cell_type": "code",
   "execution_count": 12,
   "id": "af625357",
   "metadata": {},
   "outputs": [],
   "source": [
    "s3 = Student(\"Shabina\",47)"
   ]
  },
  {
   "cell_type": "code",
   "execution_count": 13,
   "id": "9097d8dd",
   "metadata": {},
   "outputs": [],
   "source": [
    "s3.add_marks({'history':80,'mechanics':80,'chemistry':95})"
   ]
  },
  {
   "cell_type": "code",
   "execution_count": 14,
   "id": "22a18f82",
   "metadata": {},
   "outputs": [
    {
     "data": {
      "text/plain": [
       "'Shabina'"
      ]
     },
     "execution_count": 14,
     "metadata": {},
     "output_type": "execute_result"
    }
   ],
   "source": [
    "Student.find_topper().name"
   ]
  },
  {
   "cell_type": "code",
   "execution_count": null,
   "id": "940fb35c",
   "metadata": {},
   "outputs": [],
   "source": []
  }
 ],
 "metadata": {
  "kernelspec": {
   "display_name": "Python 3",
   "language": "python",
   "name": "python3"
  },
  "language_info": {
   "codemirror_mode": {
    "name": "ipython",
    "version": 3
   },
   "file_extension": ".py",
   "mimetype": "text/x-python",
   "name": "python",
   "nbconvert_exporter": "python",
   "pygments_lexer": "ipython3",
   "version": "3.8.8"
  }
 },
 "nbformat": 4,
 "nbformat_minor": 5
}
