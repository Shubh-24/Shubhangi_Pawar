{
 "cells": [
  {
   "cell_type": "markdown",
   "id": "116b7983",
   "metadata": {},
   "source": [
    "# instagram"
   ]
  },
  {
   "cell_type": "code",
   "execution_count": null,
   "id": "8aa88353",
   "metadata": {},
   "outputs": [],
   "source": [
    "# sign_up\n",
    "# sign_in\n",
    "# log_out\n",
    "# log_out_all_devices\n",
    "# follower_list\n",
    "# followed_list\n",
    "# session_list"
   ]
  },
  {
   "cell_type": "code",
   "execution_count": 2,
   "id": "eb1295b1",
   "metadata": {},
   "outputs": [],
   "source": [
    "from datetime import datetime as dt\n",
    "class User:\n",
    "    users = {}\n",
    "    def __init__(self):\n",
    "        self.follower_list = []\n",
    "        self.followed_list = []\n",
    "        self.log_in_session = []\n",
    "        \n",
    "    def sign_up(self,name, password, phn):\n",
    "        self.phn = phn\n",
    "        self.name = name\n",
    "        self.password = password\n",
    "        self.user_name = name+\"_\"+str(phn)\n",
    "        User.add_user(self)\n",
    "    \n",
    "    def sign_in(self, user_name, password):\n",
    "        if user_name == self.user_name:\n",
    "            if password == self.password:\n",
    "                dic = {\"Date\":dt.now().strftime(\"%D\"),\"Time\":dt.now().strftime(\"%H:%M:%S\")}\n",
    "                self.log_in_session.append(dic)\n",
    "                return self.log_in_session\n",
    "        else:\n",
    "            return {\"message\":\"Wrong username/password\"}\n",
    "    \n",
    "    def sign_out(self):\n",
    "        if self.log_in_session:\n",
    "            self.log_in_session.pop()\n",
    "        else:\n",
    "            print(\"Signed out of all devices\")\n",
    "    \n",
    "    def sign_out_of_all_devices(self):\n",
    "        self.log_in_session.clear()\n",
    "        print(\"Signed out of all Devices\")\n",
    "    \n",
    "    def follow_user(self, other):\n",
    "        self.followed_list.append(other)\n",
    "        other.follower_list.append(self)\n",
    "    \n",
    "    @classmethod\n",
    "    def add_user(cls, self):\n",
    "        cls.users[self.user_name] = self"
   ]
  },
  {
   "cell_type": "code",
   "execution_count": 3,
   "id": "49a0679e",
   "metadata": {},
   "outputs": [],
   "source": [
    "u1 = User()\n",
    "u2 = User()\n",
    "u3 = User()\n",
    "u4 = User()"
   ]
  },
  {
   "cell_type": "code",
   "execution_count": 4,
   "id": "c335de86",
   "metadata": {},
   "outputs": [],
   "source": [
    "l = [{\"name\":\"Swarnali\",\"password\":\"1234\",\"phn\":999},\n",
    "     {\"name\":\"Joven\",\"password\":\"2345\",\"phn\":987},\n",
    "     {\"name\":\"vanditha\",\"password\":1234,\"phn\":567},\n",
    "    {\"name\":\"snehal\",\"Password\":8765,\"phn\":99999}\n",
    "    ]"
   ]
  },
  {
   "cell_type": "code",
   "execution_count": 5,
   "id": "e6c1e3c7",
   "metadata": {},
   "outputs": [],
   "source": [
    "u1.sign_up(\"Swarnali\",\"1234\",999)\n",
    "u2.sign_up(\"Joven\",\"2345\",987)\n",
    "u3.sign_up(\"vanditha\",\"1234\",567)"
   ]
  },
  {
   "cell_type": "code",
   "execution_count": 6,
   "id": "7d7c5fe0",
   "metadata": {},
   "outputs": [
    {
     "data": {
      "text/plain": [
       "[{'Date': '12/21/21', 'Time': '19:01:52'}]"
      ]
     },
     "execution_count": 6,
     "metadata": {},
     "output_type": "execute_result"
    }
   ],
   "source": [
    "u1.sign_in(\"Swarnali_999\",\"1234\")"
   ]
  },
  {
   "cell_type": "code",
   "execution_count": 7,
   "id": "7d1c2eb0",
   "metadata": {},
   "outputs": [
    {
     "data": {
      "text/plain": [
       "[{'Date': '12/21/21', 'Time': '19:01:52'}]"
      ]
     },
     "execution_count": 7,
     "metadata": {},
     "output_type": "execute_result"
    }
   ],
   "source": [
    "u1.log_in_session"
   ]
  },
  {
   "cell_type": "code",
   "execution_count": 8,
   "id": "5e143dfb",
   "metadata": {},
   "outputs": [
    {
     "data": {
      "text/plain": [
       "[{'Date': '12/21/21', 'Time': '19:01:52'},\n",
       " {'Date': '12/21/21', 'Time': '19:02:22'}]"
      ]
     },
     "execution_count": 8,
     "metadata": {},
     "output_type": "execute_result"
    }
   ],
   "source": [
    "u1.sign_in(\"Swarnali_999\",\"1234\")"
   ]
  },
  {
   "cell_type": "code",
   "execution_count": 9,
   "id": "a7c5ddfa",
   "metadata": {},
   "outputs": [
    {
     "data": {
      "text/plain": [
       "[{'Date': '12/21/21', 'Time': '19:01:52'},\n",
       " {'Date': '12/21/21', 'Time': '19:02:22'},\n",
       " {'Date': '12/21/21', 'Time': '19:02:33'}]"
      ]
     },
     "execution_count": 9,
     "metadata": {},
     "output_type": "execute_result"
    }
   ],
   "source": [
    "u1.sign_in(\"Swarnali_999\",\"1234\")"
   ]
  },
  {
   "cell_type": "code",
   "execution_count": 10,
   "id": "a973c749",
   "metadata": {},
   "outputs": [],
   "source": [
    "u1.sign_out()"
   ]
  },
  {
   "cell_type": "code",
   "execution_count": 11,
   "id": "4389b80e",
   "metadata": {},
   "outputs": [
    {
     "data": {
      "text/plain": [
       "[{'Date': '12/21/21', 'Time': '19:01:52'},\n",
       " {'Date': '12/21/21', 'Time': '19:02:22'}]"
      ]
     },
     "execution_count": 11,
     "metadata": {},
     "output_type": "execute_result"
    }
   ],
   "source": [
    "u1.log_in_session"
   ]
  },
  {
   "cell_type": "code",
   "execution_count": 12,
   "id": "072bdb12",
   "metadata": {},
   "outputs": [
    {
     "name": "stdout",
     "output_type": "stream",
     "text": [
      "Signed out of all Devices\n"
     ]
    }
   ],
   "source": [
    "u1.sign_out_of_all_devices()"
   ]
  },
  {
   "cell_type": "code",
   "execution_count": 13,
   "id": "b63f047d",
   "metadata": {},
   "outputs": [
    {
     "data": {
      "text/plain": [
       "[]"
      ]
     },
     "execution_count": 13,
     "metadata": {},
     "output_type": "execute_result"
    }
   ],
   "source": [
    "u1.log_in_session"
   ]
  },
  {
   "cell_type": "code",
   "execution_count": null,
   "id": "6d2aceed",
   "metadata": {},
   "outputs": [],
   "source": []
  }
 ],
 "metadata": {
  "kernelspec": {
   "display_name": "Python 3",
   "language": "python",
   "name": "python3"
  },
  "language_info": {
   "codemirror_mode": {
    "name": "ipython",
    "version": 3
   },
   "file_extension": ".py",
   "mimetype": "text/x-python",
   "name": "python",
   "nbconvert_exporter": "python",
   "pygments_lexer": "ipython3",
   "version": "3.8.8"
  }
 },
 "nbformat": 4,
 "nbformat_minor": 5
}
